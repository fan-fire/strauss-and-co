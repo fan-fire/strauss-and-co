{
 "cells": [
  {
   "cell_type": "code",
   "execution_count": null,
   "metadata": {},
   "outputs": [],
   "source": [
    "import pandas as pd\n",
    "import glob"
   ]
  },
  {
   "cell_type": "code",
   "execution_count": null,
   "metadata": {},
   "outputs": [],
   "source": [
    "df = pd.DataFrame()\n",
    "for file in glob.glob(\"./mints/2023/*.csv\"):\n",
    "    _ = pd.read_csv(file)\n",
    "    print(file, _.shape)\n",
    "    df = df.append(_)"
   ]
  },
  {
   "cell_type": "code",
   "execution_count": null,
   "metadata": {},
   "outputs": [],
   "source": [
    "print(df.shape)\n",
    "df = df.drop_duplicates(subset=['Txhash'])\n",
    "print(df.shape)"
   ]
  },
  {
   "cell_type": "code",
   "execution_count": null,
   "metadata": {},
   "outputs": [],
   "source": [
    "matic_price = 0.635594 #1 MATIC = $0.635594\n",
    "usd_zar = 18.68\n",
    "df_summary = df[['ErrCode', 'TxnFee(MATIC)']].groupby('ErrCode').sum().reset_index().rename(columns={'TxnFee(MATIC)': 'TotalTxnFee(MATIC)', 'ErrCode': 'Function'}).sort_values('TotalTxnFee(MATIC)', ascending=False)\n",
    "df_summary['TotalTxnFee(USD)'] = df_summary['TotalTxnFee(MATIC)'] * matic_price\n",
    "df_summary['TotalTxnFee(USD)'] = df_summary['TotalTxnFee(USD)'].round(2)\n",
    "df_summary['TotalTxnFee(ZAR)'] = df_summary['TotalTxnFee(USD)'] * usd_zar\n",
    "df_summary['TotalTxnFee(ZAR)'] = df_summary['TotalTxnFee(ZAR)'].round(2)\n",
    "# copy markdown to clipboard\n",
    "print(df_summary.to_markdown(index=False))"
   ]
  },
  {
   "cell_type": "code",
   "execution_count": null,
   "metadata": {},
   "outputs": [],
   "source": [
    "df_summary[['TotalTxnFee(MATIC)', 'TotalTxnFee(USD)', 'TotalTxnFee(ZAR)']].sum()"
   ]
  }
 ],
 "metadata": {
  "kernelspec": {
   "display_name": "default",
   "language": "python",
   "name": "python3"
  },
  "language_info": {
   "codemirror_mode": {
    "name": "ipython",
    "version": 3
   },
   "file_extension": ".py",
   "mimetype": "text/x-python",
   "name": "python",
   "nbconvert_exporter": "python",
   "pygments_lexer": "ipython3",
   "version": "3.9.13"
  },
  "orig_nbformat": 4
 },
 "nbformat": 4,
 "nbformat_minor": 2
}
